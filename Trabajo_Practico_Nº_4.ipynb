{
  "nbformat": 4,
  "nbformat_minor": 0,
  "metadata": {
    "colab": {
      "provenance": []
    },
    "kernelspec": {
      "name": "python3",
      "display_name": "Python 3"
    },
    "language_info": {
      "name": "python"
    }
  },
  "cells": [
    {
      "cell_type": "markdown",
      "source": [
        "**Trabajo Practico Nº 4**\n",
        "Analisis sobre data set\n",
        "\n",
        "1= Buscar los siguiente data set en la web\n",
        "* Titanic\n",
        "* Iris\n",
        "* Wine\n",
        "* Indian Diabetes\n",
        "\n",
        "2- Explicar de cada data set , sus diferente Variables\n",
        "\n",
        "3- Deside justificando tu respuesta que tipo de categoria de variable son\n",
        "\n",
        "4- Detectar y arreglar los siguientes coceptos\n",
        "\n",
        "* Valores Ausente\n",
        "* Valores Atipicos\n",
        "\n",
        "5- De los difentes data set , se puede eliminar alguna columna\n",
        "\n",
        "6- Realizar analisis univariados\n",
        "\n",
        "* Grafico de frecuencia\n",
        "* Grafico de torta\n",
        "* Histograma\n",
        "* etc\n",
        "\n",
        "7- En base a los graficos del punto 6 realizar distintas concluciones\n",
        "\n",
        "8- Realizar analisis de corelacion y explicar que variable estan correlacionadas\n",
        "\n",
        "9-Realizar un analisis de grafico de cherrnoff y detectar outlires\n",
        "\n",
        "PD Pueden Buscar data set de kaggle"
      ],
      "metadata": {
        "id": "N9HdP-duquwy"
      }
    },
    {
      "cell_type": "code",
      "source": [],
      "metadata": {
        "id": "bf0VSaZyuLFT"
      },
      "execution_count": null,
      "outputs": []
    }
  ]
}